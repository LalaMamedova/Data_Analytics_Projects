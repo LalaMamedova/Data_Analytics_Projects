{
 "cells": [
  {
   "cell_type": "code",
   "execution_count": 1,
   "metadata": {},
   "outputs": [],
   "source": [
    "import pandas as pd\n",
    "import numpy as np\n",
    "\n",
    "import matplotlib.pyplot as plt\n",
    "import seaborn as sns"
   ]
  },
  {
   "cell_type": "code",
   "execution_count": 2,
   "metadata": {},
   "outputs": [
    {
     "data": {
      "text/html": [
       "<div>\n",
       "<style scoped>\n",
       "    .dataframe tbody tr th:only-of-type {\n",
       "        vertical-align: middle;\n",
       "    }\n",
       "\n",
       "    .dataframe tbody tr th {\n",
       "        vertical-align: top;\n",
       "    }\n",
       "\n",
       "    .dataframe thead th {\n",
       "        text-align: right;\n",
       "    }\n",
       "</style>\n",
       "<table border=\"1\" class=\"dataframe\">\n",
       "  <thead>\n",
       "    <tr style=\"text-align: right;\">\n",
       "      <th></th>\n",
       "      <th>Unnamed: 0</th>\n",
       "      <th>Name</th>\n",
       "      <th>Url to Vacancy</th>\n",
       "      <th>Company</th>\n",
       "      <th>Location</th>\n",
       "      <th>Type of Employment</th>\n",
       "      <th>Age category</th>\n",
       "      <th>Education degree</th>\n",
       "      <th>Salary</th>\n",
       "      <th>Posting Date</th>\n",
       "      <th>Deadline Date</th>\n",
       "      <th>Skills</th>\n",
       "    </tr>\n",
       "  </thead>\n",
       "  <tbody>\n",
       "    <tr>\n",
       "      <th>0</th>\n",
       "      <td>0</td>\n",
       "      <td>Mobil tətbiq üzrə məhsul mütəxəssisi</td>\n",
       "      <td>https://busy.az/vacancy/132205/mobil-tetbiq-uz...</td>\n",
       "      <td>189 Taxi</td>\n",
       "      <td>Bakı</td>\n",
       "      <td>Tam ştat (full time)</td>\n",
       "      <td>NaN</td>\n",
       "      <td>Ali</td>\n",
       "      <td>Razılaşma yolu ilə</td>\n",
       "      <td>04.07.2024</td>\n",
       "      <td>18.07.2024</td>\n",
       "      <td>['software development', 'programming', 'mobil...</td>\n",
       "    </tr>\n",
       "    <tr>\n",
       "      <th>1</th>\n",
       "      <td>1</td>\n",
       "      <td>Senior Backend Developer</td>\n",
       "      <td>https://busy.az/vacancy/132086/senior-backend-...</td>\n",
       "      <td>Ferrum Capital</td>\n",
       "      <td>Bakı</td>\n",
       "      <td>Tam ştat (full time)</td>\n",
       "      <td>NaN</td>\n",
       "      <td>NaN</td>\n",
       "      <td>Razılaşma yolu ilə</td>\n",
       "      <td>03.07.2024</td>\n",
       "      <td>17.07.2024</td>\n",
       "      <td>['Oracle', 'T-SQL', 'OOP', 'back-end developme...</td>\n",
       "    </tr>\n",
       "    <tr>\n",
       "      <th>2</th>\n",
       "      <td>2</td>\n",
       "      <td>Proqramlaşdırma İdarəsinin Tətbiqi proqramlaşd...</td>\n",
       "      <td>https://busy.az/vacancy/132034/proqramlasdirma...</td>\n",
       "      <td>Xalq Bank</td>\n",
       "      <td>Bakı</td>\n",
       "      <td>Tam ştat (full time)</td>\n",
       "      <td>NaN</td>\n",
       "      <td>NaN</td>\n",
       "      <td>Razılaşma yolu ilə</td>\n",
       "      <td>03.07.2024</td>\n",
       "      <td>17.07.2024</td>\n",
       "      <td>['SQL', 'back-end development', 'programming',...</td>\n",
       "    </tr>\n",
       "    <tr>\n",
       "      <th>3</th>\n",
       "      <td>3</td>\n",
       "      <td>Mid IOS Developer</td>\n",
       "      <td>https://busy.az/vacancy/132014/mid-ios-developer</td>\n",
       "      <td>Golden Pay</td>\n",
       "      <td>Bakı</td>\n",
       "      <td>Tam ştat (full time)</td>\n",
       "      <td>NaN</td>\n",
       "      <td>NaN</td>\n",
       "      <td>Razılaşma yolu ilə</td>\n",
       "      <td>03.07.2024</td>\n",
       "      <td>17.07.2024</td>\n",
       "      <td>['proqramlaşdırma', 'iOS development', 'progra...</td>\n",
       "    </tr>\n",
       "    <tr>\n",
       "      <th>4</th>\n",
       "      <td>4</td>\n",
       "      <td>IOS Developer (middle)</td>\n",
       "      <td>https://busy.az/vacancy/131978/ios-developer-m...</td>\n",
       "      <td>Express Bank</td>\n",
       "      <td>Bakı</td>\n",
       "      <td>Tam ştat (full time)</td>\n",
       "      <td>NaN</td>\n",
       "      <td>NaN</td>\n",
       "      <td>Razılaşma yolu ilə</td>\n",
       "      <td>03.07.2024</td>\n",
       "      <td>17.07.2024</td>\n",
       "      <td>['OOP', 'proqramlaşdırma', 'iOS development', ...</td>\n",
       "    </tr>\n",
       "  </tbody>\n",
       "</table>\n",
       "</div>"
      ],
      "text/plain": [
       "   Unnamed: 0                                               Name  \\\n",
       "0           0               Mobil tətbiq üzrə məhsul mütəxəssisi   \n",
       "1           1                           Senior Backend Developer   \n",
       "2           2  Proqramlaşdırma İdarəsinin Tətbiqi proqramlaşd...   \n",
       "3           3                                  Mid IOS Developer   \n",
       "4           4                             IOS Developer (middle)   \n",
       "\n",
       "                                      Url to Vacancy         Company Location  \\\n",
       "0  https://busy.az/vacancy/132205/mobil-tetbiq-uz...        189 Taxi     Bakı   \n",
       "1  https://busy.az/vacancy/132086/senior-backend-...  Ferrum Capital     Bakı   \n",
       "2  https://busy.az/vacancy/132034/proqramlasdirma...       Xalq Bank     Bakı   \n",
       "3   https://busy.az/vacancy/132014/mid-ios-developer      Golden Pay     Bakı   \n",
       "4  https://busy.az/vacancy/131978/ios-developer-m...    Express Bank     Bakı   \n",
       "\n",
       "     Type of Employment Age category Education degree              Salary  \\\n",
       "0  Tam ştat (full time)          NaN              Ali  Razılaşma yolu ilə   \n",
       "1  Tam ştat (full time)          NaN              NaN  Razılaşma yolu ilə   \n",
       "2  Tam ştat (full time)          NaN              NaN  Razılaşma yolu ilə   \n",
       "3  Tam ştat (full time)          NaN              NaN  Razılaşma yolu ilə   \n",
       "4  Tam ştat (full time)          NaN              NaN  Razılaşma yolu ilə   \n",
       "\n",
       "  Posting Date Deadline Date  \\\n",
       "0   04.07.2024    18.07.2024   \n",
       "1   03.07.2024    17.07.2024   \n",
       "2   03.07.2024    17.07.2024   \n",
       "3   03.07.2024    17.07.2024   \n",
       "4   03.07.2024    17.07.2024   \n",
       "\n",
       "                                              Skills  \n",
       "0  ['software development', 'programming', 'mobil...  \n",
       "1  ['Oracle', 'T-SQL', 'OOP', 'back-end developme...  \n",
       "2  ['SQL', 'back-end development', 'programming',...  \n",
       "3  ['proqramlaşdırma', 'iOS development', 'progra...  \n",
       "4  ['OOP', 'proqramlaşdırma', 'iOS development', ...  "
      ]
     },
     "execution_count": 2,
     "metadata": {},
     "output_type": "execute_result"
    }
   ],
   "source": [
    "df = pd.read_excel(\"Software Vacancy.xlsx\")\n",
    "df.head()"
   ]
  },
  {
   "cell_type": "code",
   "execution_count": 3,
   "metadata": {},
   "outputs": [
    {
     "data": {
      "text/html": [
       "<div>\n",
       "<style scoped>\n",
       "    .dataframe tbody tr th:only-of-type {\n",
       "        vertical-align: middle;\n",
       "    }\n",
       "\n",
       "    .dataframe tbody tr th {\n",
       "        vertical-align: top;\n",
       "    }\n",
       "\n",
       "    .dataframe thead th {\n",
       "        text-align: right;\n",
       "    }\n",
       "</style>\n",
       "<table border=\"1\" class=\"dataframe\">\n",
       "  <thead>\n",
       "    <tr style=\"text-align: right;\">\n",
       "      <th></th>\n",
       "      <th>Name</th>\n",
       "      <th>Url to Vacancy</th>\n",
       "      <th>Company</th>\n",
       "      <th>Location</th>\n",
       "      <th>Type of Employment</th>\n",
       "      <th>Age category</th>\n",
       "      <th>Education degree</th>\n",
       "      <th>Salary</th>\n",
       "      <th>Posting Date</th>\n",
       "      <th>Deadline Date</th>\n",
       "      <th>Skills</th>\n",
       "    </tr>\n",
       "  </thead>\n",
       "  <tbody>\n",
       "    <tr>\n",
       "      <th>0</th>\n",
       "      <td>Mobil tətbiq üzrə məhsul mütəxəssisi</td>\n",
       "      <td>https://busy.az/vacancy/132205/mobil-tetbiq-uz...</td>\n",
       "      <td>189 Taxi</td>\n",
       "      <td>Bakı</td>\n",
       "      <td>Tam ştat (full time)</td>\n",
       "      <td>NaN</td>\n",
       "      <td>Ali</td>\n",
       "      <td>Razılaşma yolu ilə</td>\n",
       "      <td>04.07.2024</td>\n",
       "      <td>18.07.2024</td>\n",
       "      <td>['software development', 'programming', 'mobil...</td>\n",
       "    </tr>\n",
       "    <tr>\n",
       "      <th>1</th>\n",
       "      <td>Senior Backend Developer</td>\n",
       "      <td>https://busy.az/vacancy/132086/senior-backend-...</td>\n",
       "      <td>Ferrum Capital</td>\n",
       "      <td>Bakı</td>\n",
       "      <td>Tam ştat (full time)</td>\n",
       "      <td>NaN</td>\n",
       "      <td>NaN</td>\n",
       "      <td>Razılaşma yolu ilə</td>\n",
       "      <td>03.07.2024</td>\n",
       "      <td>17.07.2024</td>\n",
       "      <td>['Oracle', 'T-SQL', 'OOP', 'back-end developme...</td>\n",
       "    </tr>\n",
       "    <tr>\n",
       "      <th>2</th>\n",
       "      <td>Proqramlaşdırma İdarəsinin Tətbiqi proqramlaşd...</td>\n",
       "      <td>https://busy.az/vacancy/132034/proqramlasdirma...</td>\n",
       "      <td>Xalq Bank</td>\n",
       "      <td>Bakı</td>\n",
       "      <td>Tam ştat (full time)</td>\n",
       "      <td>NaN</td>\n",
       "      <td>NaN</td>\n",
       "      <td>Razılaşma yolu ilə</td>\n",
       "      <td>03.07.2024</td>\n",
       "      <td>17.07.2024</td>\n",
       "      <td>['SQL', 'back-end development', 'programming',...</td>\n",
       "    </tr>\n",
       "    <tr>\n",
       "      <th>3</th>\n",
       "      <td>Mid IOS Developer</td>\n",
       "      <td>https://busy.az/vacancy/132014/mid-ios-developer</td>\n",
       "      <td>Golden Pay</td>\n",
       "      <td>Bakı</td>\n",
       "      <td>Tam ştat (full time)</td>\n",
       "      <td>NaN</td>\n",
       "      <td>NaN</td>\n",
       "      <td>Razılaşma yolu ilə</td>\n",
       "      <td>03.07.2024</td>\n",
       "      <td>17.07.2024</td>\n",
       "      <td>['proqramlaşdırma', 'iOS development', 'progra...</td>\n",
       "    </tr>\n",
       "    <tr>\n",
       "      <th>4</th>\n",
       "      <td>IOS Developer (middle)</td>\n",
       "      <td>https://busy.az/vacancy/131978/ios-developer-m...</td>\n",
       "      <td>Express Bank</td>\n",
       "      <td>Bakı</td>\n",
       "      <td>Tam ştat (full time)</td>\n",
       "      <td>NaN</td>\n",
       "      <td>NaN</td>\n",
       "      <td>Razılaşma yolu ilə</td>\n",
       "      <td>03.07.2024</td>\n",
       "      <td>17.07.2024</td>\n",
       "      <td>['OOP', 'proqramlaşdırma', 'iOS development', ...</td>\n",
       "    </tr>\n",
       "  </tbody>\n",
       "</table>\n",
       "</div>"
      ],
      "text/plain": [
       "                                                Name  \\\n",
       "0               Mobil tətbiq üzrə məhsul mütəxəssisi   \n",
       "1                           Senior Backend Developer   \n",
       "2  Proqramlaşdırma İdarəsinin Tətbiqi proqramlaşd...   \n",
       "3                                  Mid IOS Developer   \n",
       "4                             IOS Developer (middle)   \n",
       "\n",
       "                                      Url to Vacancy         Company Location  \\\n",
       "0  https://busy.az/vacancy/132205/mobil-tetbiq-uz...        189 Taxi     Bakı   \n",
       "1  https://busy.az/vacancy/132086/senior-backend-...  Ferrum Capital     Bakı   \n",
       "2  https://busy.az/vacancy/132034/proqramlasdirma...       Xalq Bank     Bakı   \n",
       "3   https://busy.az/vacancy/132014/mid-ios-developer      Golden Pay     Bakı   \n",
       "4  https://busy.az/vacancy/131978/ios-developer-m...    Express Bank     Bakı   \n",
       "\n",
       "     Type of Employment Age category Education degree              Salary  \\\n",
       "0  Tam ştat (full time)          NaN              Ali  Razılaşma yolu ilə   \n",
       "1  Tam ştat (full time)          NaN              NaN  Razılaşma yolu ilə   \n",
       "2  Tam ştat (full time)          NaN              NaN  Razılaşma yolu ilə   \n",
       "3  Tam ştat (full time)          NaN              NaN  Razılaşma yolu ilə   \n",
       "4  Tam ştat (full time)          NaN              NaN  Razılaşma yolu ilə   \n",
       "\n",
       "  Posting Date Deadline Date  \\\n",
       "0   04.07.2024    18.07.2024   \n",
       "1   03.07.2024    17.07.2024   \n",
       "2   03.07.2024    17.07.2024   \n",
       "3   03.07.2024    17.07.2024   \n",
       "4   03.07.2024    17.07.2024   \n",
       "\n",
       "                                              Skills  \n",
       "0  ['software development', 'programming', 'mobil...  \n",
       "1  ['Oracle', 'T-SQL', 'OOP', 'back-end developme...  \n",
       "2  ['SQL', 'back-end development', 'programming',...  \n",
       "3  ['proqramlaşdırma', 'iOS development', 'progra...  \n",
       "4  ['OOP', 'proqramlaşdırma', 'iOS development', ...  "
      ]
     },
     "execution_count": 3,
     "metadata": {},
     "output_type": "execute_result"
    }
   ],
   "source": [
    "df.drop(\"Unnamed: 0\",axis=1,inplace=True)\n",
    "df.head()"
   ]
  },
  {
   "cell_type": "code",
   "execution_count": 4,
   "metadata": {},
   "outputs": [
    {
     "data": {
      "text/plain": [
       "(1796, 11)"
      ]
     },
     "execution_count": 4,
     "metadata": {},
     "output_type": "execute_result"
    }
   ],
   "source": [
    "df.shape"
   ]
  },
  {
   "cell_type": "code",
   "execution_count": 5,
   "metadata": {},
   "outputs": [
    {
     "data": {
      "text/plain": [
       "Name                     0\n",
       "Url to Vacancy           0\n",
       "Company                  0\n",
       "Location               623\n",
       "Type of Employment       0\n",
       "Age category          1717\n",
       "Education degree      1058\n",
       "Salary                   0\n",
       "Posting Date             8\n",
       "Deadline Date            8\n",
       "Skills                   0\n",
       "dtype: int64"
      ]
     },
     "execution_count": 5,
     "metadata": {},
     "output_type": "execute_result"
    }
   ],
   "source": [
    "df.isna().sum()"
   ]
  },
  {
   "cell_type": "code",
   "execution_count": 6,
   "metadata": {},
   "outputs": [
    {
     "name": "stdout",
     "output_type": "stream",
     "text": [
      "<class 'pandas.core.frame.DataFrame'>\n",
      "RangeIndex: 1796 entries, 0 to 1795\n",
      "Data columns (total 11 columns):\n",
      " #   Column              Non-Null Count  Dtype \n",
      "---  ------              --------------  ----- \n",
      " 0   Name                1796 non-null   object\n",
      " 1   Url to Vacancy      1796 non-null   object\n",
      " 2   Company             1796 non-null   object\n",
      " 3   Location            1173 non-null   object\n",
      " 4   Type of Employment  1796 non-null   object\n",
      " 5   Age category        79 non-null     object\n",
      " 6   Education degree    738 non-null    object\n",
      " 7   Salary              1796 non-null   object\n",
      " 8   Posting Date        1788 non-null   object\n",
      " 9   Deadline Date       1788 non-null   object\n",
      " 10  Skills              1796 non-null   object\n",
      "dtypes: object(11)\n",
      "memory usage: 154.5+ KB\n"
     ]
    }
   ],
   "source": [
    "df.info()"
   ]
  },
  {
   "cell_type": "code",
   "execution_count": 7,
   "metadata": {},
   "outputs": [
    {
     "data": {
      "text/plain": [
       "13"
      ]
     },
     "execution_count": 7,
     "metadata": {},
     "output_type": "execute_result"
    }
   ],
   "source": [
    "df.duplicated().sum()"
   ]
  },
  {
   "cell_type": "code",
   "execution_count": 8,
   "metadata": {},
   "outputs": [
    {
     "data": {
      "text/html": [
       "<div>\n",
       "<style scoped>\n",
       "    .dataframe tbody tr th:only-of-type {\n",
       "        vertical-align: middle;\n",
       "    }\n",
       "\n",
       "    .dataframe tbody tr th {\n",
       "        vertical-align: top;\n",
       "    }\n",
       "\n",
       "    .dataframe thead th {\n",
       "        text-align: right;\n",
       "    }\n",
       "</style>\n",
       "<table border=\"1\" class=\"dataframe\">\n",
       "  <thead>\n",
       "    <tr style=\"text-align: right;\">\n",
       "      <th></th>\n",
       "      <th>Name</th>\n",
       "      <th>Url to Vacancy</th>\n",
       "      <th>Company</th>\n",
       "      <th>Location</th>\n",
       "      <th>Type of Employment</th>\n",
       "      <th>Age category</th>\n",
       "      <th>Education degree</th>\n",
       "      <th>Salary</th>\n",
       "      <th>Posting Date</th>\n",
       "      <th>Deadline Date</th>\n",
       "      <th>Skills</th>\n",
       "    </tr>\n",
       "  </thead>\n",
       "  <tbody>\n",
       "    <tr>\n",
       "      <th>442</th>\n",
       "      <td>PHP Developer</td>\n",
       "      <td>https://busy.az/vacancy/98258/php-developer</td>\n",
       "      <td>Push30</td>\n",
       "      <td>Bakı</td>\n",
       "      <td>Tam ştat (full time)</td>\n",
       "      <td>NaN</td>\n",
       "      <td>Ali (bakalavr)</td>\n",
       "      <td>Razılaşma yolu ilə</td>\n",
       "      <td>25.04.2023</td>\n",
       "      <td>25.05.2023</td>\n",
       "      <td>['HTML', 'CSS', 'JavaScript', 'programming', '...</td>\n",
       "    </tr>\n",
       "    <tr>\n",
       "      <th>443</th>\n",
       "      <td>PHP Developer</td>\n",
       "      <td>https://busy.az/vacancy/98258/php-developer</td>\n",
       "      <td>Push30</td>\n",
       "      <td>Bakı</td>\n",
       "      <td>Tam ştat (full time)</td>\n",
       "      <td>NaN</td>\n",
       "      <td>Ali (bakalavr)</td>\n",
       "      <td>Razılaşma yolu ilə</td>\n",
       "      <td>25.04.2023</td>\n",
       "      <td>25.05.2023</td>\n",
       "      <td>['HTML', 'CSS', 'JavaScript', 'programming', '...</td>\n",
       "    </tr>\n",
       "  </tbody>\n",
       "</table>\n",
       "</div>"
      ],
      "text/plain": [
       "              Name                               Url to Vacancy Company  \\\n",
       "442  PHP Developer  https://busy.az/vacancy/98258/php-developer  Push30   \n",
       "443  PHP Developer  https://busy.az/vacancy/98258/php-developer  Push30   \n",
       "\n",
       "    Location    Type of Employment Age category Education degree  \\\n",
       "442     Bakı  Tam ştat (full time)          NaN   Ali (bakalavr)   \n",
       "443     Bakı  Tam ştat (full time)          NaN   Ali (bakalavr)   \n",
       "\n",
       "                 Salary Posting Date Deadline Date  \\\n",
       "442  Razılaşma yolu ilə   25.04.2023    25.05.2023   \n",
       "443  Razılaşma yolu ilə   25.04.2023    25.05.2023   \n",
       "\n",
       "                                                Skills  \n",
       "442  ['HTML', 'CSS', 'JavaScript', 'programming', '...  \n",
       "443  ['HTML', 'CSS', 'JavaScript', 'programming', '...  "
      ]
     },
     "execution_count": 8,
     "metadata": {},
     "output_type": "execute_result"
    }
   ],
   "source": [
    "df[df.duplicated(keep=False)][:2]"
   ]
  },
  {
   "cell_type": "markdown",
   "metadata": {},
   "source": [
    "# Cleaning"
   ]
  },
  {
   "cell_type": "code",
   "execution_count": 9,
   "metadata": {},
   "outputs": [
    {
     "data": {
      "text/plain": [
       "Index(['Name', 'Url_to_Vacancy', 'Company', 'Location', 'Type_of_Employment',\n",
       "       'Age_category', 'Education_degree', 'Salary', 'Posting_Date',\n",
       "       'Deadline_Date', 'Skills'],\n",
       "      dtype='object')"
      ]
     },
     "execution_count": 9,
     "metadata": {},
     "output_type": "execute_result"
    }
   ],
   "source": [
    "df_clean = df.copy()\n",
    "df_clean.columns = df_clean.columns.str.replace(\" \",\"_\")\n",
    "df_clean.columns"
   ]
  },
  {
   "cell_type": "code",
   "execution_count": 29,
   "metadata": {},
   "outputs": [
    {
     "data": {
      "text/html": [
       "<div>\n",
       "<style scoped>\n",
       "    .dataframe tbody tr th:only-of-type {\n",
       "        vertical-align: middle;\n",
       "    }\n",
       "\n",
       "    .dataframe tbody tr th {\n",
       "        vertical-align: top;\n",
       "    }\n",
       "\n",
       "    .dataframe thead th {\n",
       "        text-align: right;\n",
       "    }\n",
       "</style>\n",
       "<table border=\"1\" class=\"dataframe\">\n",
       "  <thead>\n",
       "    <tr style=\"text-align: right;\">\n",
       "      <th></th>\n",
       "      <th>Name</th>\n",
       "      <th>Url_to_Vacancy</th>\n",
       "      <th>Company</th>\n",
       "      <th>Location</th>\n",
       "      <th>Type_of_Employment</th>\n",
       "      <th>Age_category</th>\n",
       "      <th>Education_degree</th>\n",
       "      <th>Salary</th>\n",
       "      <th>Posting_Date</th>\n",
       "      <th>Deadline_Date</th>\n",
       "      <th>Skills</th>\n",
       "    </tr>\n",
       "  </thead>\n",
       "  <tbody>\n",
       "    <tr>\n",
       "      <th>0</th>\n",
       "      <td>Mobil tətbiq üzrə məhsul mütəxəssisi</td>\n",
       "      <td>https://busy.az/vacancy/132205/mobil-tetbiq-uz...</td>\n",
       "      <td>189 Taxi</td>\n",
       "      <td>Bakı</td>\n",
       "      <td>Tam ştat (full time)</td>\n",
       "      <td>NaN</td>\n",
       "      <td>Ali</td>\n",
       "      <td>Razılaşma yolu ilə</td>\n",
       "      <td>04.07.2024</td>\n",
       "      <td>18.07.2024</td>\n",
       "      <td>['software development', 'programming', 'mobil...</td>\n",
       "    </tr>\n",
       "    <tr>\n",
       "      <th>1</th>\n",
       "      <td>Senior Backend Developer</td>\n",
       "      <td>https://busy.az/vacancy/132086/senior-backend-...</td>\n",
       "      <td>Ferrum Capital</td>\n",
       "      <td>Bakı</td>\n",
       "      <td>Tam ştat (full time)</td>\n",
       "      <td>NaN</td>\n",
       "      <td>NaN</td>\n",
       "      <td>Razılaşma yolu ilə</td>\n",
       "      <td>03.07.2024</td>\n",
       "      <td>17.07.2024</td>\n",
       "      <td>['Oracle', 'T-SQL', 'OOP', 'back-end developme...</td>\n",
       "    </tr>\n",
       "    <tr>\n",
       "      <th>2</th>\n",
       "      <td>Proqramlaşdırma İdarəsinin Tətbiqi proqramlaşd...</td>\n",
       "      <td>https://busy.az/vacancy/132034/proqramlasdirma...</td>\n",
       "      <td>Xalq Bank</td>\n",
       "      <td>Bakı</td>\n",
       "      <td>Tam ştat (full time)</td>\n",
       "      <td>NaN</td>\n",
       "      <td>NaN</td>\n",
       "      <td>Razılaşma yolu ilə</td>\n",
       "      <td>03.07.2024</td>\n",
       "      <td>17.07.2024</td>\n",
       "      <td>['SQL', 'back-end development', 'programming',...</td>\n",
       "    </tr>\n",
       "    <tr>\n",
       "      <th>3</th>\n",
       "      <td>Mid IOS Developer</td>\n",
       "      <td>https://busy.az/vacancy/132014/mid-ios-developer</td>\n",
       "      <td>Golden Pay</td>\n",
       "      <td>Bakı</td>\n",
       "      <td>Tam ştat (full time)</td>\n",
       "      <td>NaN</td>\n",
       "      <td>NaN</td>\n",
       "      <td>Razılaşma yolu ilə</td>\n",
       "      <td>03.07.2024</td>\n",
       "      <td>17.07.2024</td>\n",
       "      <td>['proqramlaşdırma', 'iOS development', 'progra...</td>\n",
       "    </tr>\n",
       "    <tr>\n",
       "      <th>4</th>\n",
       "      <td>IOS Developer (middle)</td>\n",
       "      <td>https://busy.az/vacancy/131978/ios-developer-m...</td>\n",
       "      <td>Express Bank</td>\n",
       "      <td>Bakı</td>\n",
       "      <td>Tam ştat (full time)</td>\n",
       "      <td>NaN</td>\n",
       "      <td>NaN</td>\n",
       "      <td>Razılaşma yolu ilə</td>\n",
       "      <td>03.07.2024</td>\n",
       "      <td>17.07.2024</td>\n",
       "      <td>['OOP', 'proqramlaşdırma', 'iOS development', ...</td>\n",
       "    </tr>\n",
       "  </tbody>\n",
       "</table>\n",
       "</div>"
      ],
      "text/plain": [
       "                                                Name  \\\n",
       "0               Mobil tətbiq üzrə məhsul mütəxəssisi   \n",
       "1                           Senior Backend Developer   \n",
       "2  Proqramlaşdırma İdarəsinin Tətbiqi proqramlaşd...   \n",
       "3                                  Mid IOS Developer   \n",
       "4                             IOS Developer (middle)   \n",
       "\n",
       "                                      Url_to_Vacancy         Company Location  \\\n",
       "0  https://busy.az/vacancy/132205/mobil-tetbiq-uz...        189 Taxi     Bakı   \n",
       "1  https://busy.az/vacancy/132086/senior-backend-...  Ferrum Capital     Bakı   \n",
       "2  https://busy.az/vacancy/132034/proqramlasdirma...       Xalq Bank     Bakı   \n",
       "3   https://busy.az/vacancy/132014/mid-ios-developer      Golden Pay     Bakı   \n",
       "4  https://busy.az/vacancy/131978/ios-developer-m...    Express Bank     Bakı   \n",
       "\n",
       "     Type_of_Employment Age_category Education_degree              Salary  \\\n",
       "0  Tam ştat (full time)          NaN              Ali  Razılaşma yolu ilə   \n",
       "1  Tam ştat (full time)          NaN              NaN  Razılaşma yolu ilə   \n",
       "2  Tam ştat (full time)          NaN              NaN  Razılaşma yolu ilə   \n",
       "3  Tam ştat (full time)          NaN              NaN  Razılaşma yolu ilə   \n",
       "4  Tam ştat (full time)          NaN              NaN  Razılaşma yolu ilə   \n",
       "\n",
       "  Posting_Date Deadline_Date  \\\n",
       "0   04.07.2024    18.07.2024   \n",
       "1   03.07.2024    17.07.2024   \n",
       "2   03.07.2024    17.07.2024   \n",
       "3   03.07.2024    17.07.2024   \n",
       "4   03.07.2024    17.07.2024   \n",
       "\n",
       "                                              Skills  \n",
       "0  ['software development', 'programming', 'mobil...  \n",
       "1  ['Oracle', 'T-SQL', 'OOP', 'back-end developme...  \n",
       "2  ['SQL', 'back-end development', 'programming',...  \n",
       "3  ['proqramlaşdırma', 'iOS development', 'progra...  \n",
       "4  ['OOP', 'proqramlaşdırma', 'iOS development', ...  "
      ]
     },
     "execution_count": 29,
     "metadata": {},
     "output_type": "execute_result"
    }
   ],
   "source": [
    "df_clean.head()"
   ]
  },
  {
   "cell_type": "code",
   "execution_count": 11,
   "metadata": {},
   "outputs": [
    {
     "data": {
      "text/plain": [
       "Location\n",
       "Bakı                                                                                                                                                                                                                                                             1158\n",
       "Abşeron rayonu/Xırdalan                                                                                                                                                                                                                                             5\n",
       "Sumqayıt                                                                                                                                                                                                                                                            4\n",
       "Göygöl                                                                                                                                                                                                                                                              1\n",
       "Quba\\n                                                                                        \\n                                            \\n                                                                                        Xaçmaz                        1\n",
       "Bakı\\n                                                                                        \\n                                            \\n                                                                                        Abşeron rayonu/Xırdalan       1\n",
       "Gəncə                                                                                                                                                                                                                                                               1\n",
       "Balakən                                                                                                                                                                                                                                                             1\n",
       "Hacıqabul\\n                                                                                         \\n                                            \\n                                                                                        Şirvan                  1\n",
       "Name: count, dtype: int64"
      ]
     },
     "execution_count": 11,
     "metadata": {},
     "output_type": "execute_result"
    }
   ],
   "source": [
    "df_clean['Location'].value_counts()"
   ]
  },
  {
   "cell_type": "code",
   "execution_count": 12,
   "metadata": {},
   "outputs": [
    {
     "data": {
      "text/plain": [
       "Education_degree\n",
       "Ali               524\n",
       "Ali (bakalavr)    211\n",
       "Ali (Magistr)       2\n",
       "Elmlər doktoru      1\n",
       "Name: count, dtype: int64"
      ]
     },
     "execution_count": 12,
     "metadata": {},
     "output_type": "execute_result"
    }
   ],
   "source": [
    "df_clean['Education_degree'].value_counts()"
   ]
  },
  {
   "cell_type": "code",
   "execution_count": 13,
   "metadata": {},
   "outputs": [
    {
     "name": "stdout",
     "output_type": "stream",
     "text": [
      "Totalunique company count 379\n"
     ]
    },
    {
     "data": {
      "text/plain": [
       "Company\n",
       "Kapital Bank           57\n",
       "eManat                 43\n",
       "Bank Respublika ASC    41\n",
       "Ateshgah Sigorta       39\n",
       "PASHA Bank             36\n",
       "                       ..\n",
       "Fizza Pay               1\n",
       "POS.az                  1\n",
       "Capital XR              1\n",
       "Engineering company     1\n",
       "Oilfield Company        1\n",
       "Name: count, Length: 379, dtype: int64"
      ]
     },
     "execution_count": 13,
     "metadata": {},
     "output_type": "execute_result"
    }
   ],
   "source": [
    "print(\"Totalunique company count\", df_clean['Company'].nunique())\n",
    "df_clean['Company'].value_counts()"
   ]
  },
  {
   "cell_type": "code",
   "execution_count": 14,
   "metadata": {},
   "outputs": [
    {
     "data": {
      "text/plain": [
       "Type_of_Employment\n",
       "Tam ştat (full time)          1783\n",
       "Təcrübəçi (stajor, intern)      11\n",
       "Layihə/Müvəqqəti                 2\n",
       "Name: count, dtype: int64"
      ]
     },
     "execution_count": 14,
     "metadata": {},
     "output_type": "execute_result"
    }
   ],
   "source": [
    "df_clean['Type_of_Employment'].value_counts()"
   ]
  },
  {
   "cell_type": "code",
   "execution_count": 89,
   "metadata": {},
   "outputs": [
    {
     "data": {
      "text/plain": [
       "Salary\n",
       "Razılaşma yolu ilə    1520\n",
       "1200 - 1500             45\n",
       "1500 - 2500             42\n",
       "2000 - 3000             29\n",
       "2500 - 3500             16\n",
       "300-800                 14\n",
       "700 - 1100              12\n",
       "600 - 1000               5\n",
       "1500 - 3000              5\n",
       "2500 - 3000              5\n",
       "1000 - 1200              4\n",
       "2000 - 3500              4\n",
       "800 - 1200               4\n",
       "1200 - 1800              3\n",
       "600 - 700                3\n",
       "700 - 2500               3\n",
       "800 - 1300               3\n",
       "1500 - 1800              3\n",
       "1000 - 3000              3\n",
       "2000 - 4000              3\n",
       "Name: count, dtype: int64"
      ]
     },
     "execution_count": 89,
     "metadata": {},
     "output_type": "execute_result"
    }
   ],
   "source": [
    "df_clean['Salary'].value_counts().head(20)"
   ]
  },
  {
   "cell_type": "code",
   "execution_count": 91,
   "metadata": {},
   "outputs": [],
   "source": [
    "replacement_dict = {\n",
    "    \"2000 - 2500\":\"2000 - 3000\",\n",
    "    \"1000 - 1400\":\"1200 - 1500\",\n",
    "    \"1000 - 1500\":\"1200 - 1500\",\n",
    "    \"1500 - 2000\":\"1500 - 2500\",\n",
    "    \"3000 - 3500\":\"2500 - 3500\",\n",
    "    \"1300 - 1500\":\"1200 - 1500\",\n",
    "    \"1500 - 3000\":\"2000 - 3000\",\n",
    "    \"3500 - 4500\":\"2500 - 5000\",\n",
    "    \"800 - 1800\":\"1500 - 2000\",\n",
    "\n",
    "    \"2250\":\"2000 - 3000\",\n",
    "    \"1300\":\"1200 - 1500\",\n",
    "    \"1200\":\"1200 - 1500\",\n",
    "    \"2000\":\"1500 - 2000\",\n",
    "    \"1500\":\"1200 - 1500\",\n",
    "    \"3000\":\"2000 - 3000\",\n",
    "    \"800\":\"1200 - 1500\",\n",
    "    \"600 - 800\":\"300-800\",                                \n",
    "    \"500 - 800\":\"300-800\",\n",
    "    \"500\":\"500 - 1200\",\n",
    "\n",
    "    \"1000\":\"700 - 1100\",\n",
    "    \"400\":\"300-800\",\n",
    "}\n",
    "df_clean['Salary'].replace(replacement_dict,inplace=True)"
   ]
  },
  {
   "cell_type": "code",
   "execution_count": 92,
   "metadata": {},
   "outputs": [
    {
     "data": {
      "text/plain": [
       "Salary\n",
       "Razılaşma yolu ilə    1520\n",
       "1200 - 1500             45\n",
       "1500 - 2500             42\n",
       "2000 - 3000             34\n",
       "2500 - 3500             16\n",
       "300-800                 14\n",
       "700 - 1100              12\n",
       "600 - 1000               5\n",
       "2500 - 3000              5\n",
       "1000 - 1200              4\n",
       "800 - 1200               4\n",
       "2000 - 3500              4\n",
       "1000 - 2000              3\n",
       "600 - 700                3\n",
       "800 - 1000               3\n",
       "2000 - 4000              3\n",
       "1000 - 3000              3\n",
       "1200 - 1800              3\n",
       "800 - 1300               3\n",
       "1500 - 1800              3\n",
       "Name: count, dtype: int64"
      ]
     },
     "execution_count": 92,
     "metadata": {},
     "output_type": "execute_result"
    }
   ],
   "source": [
    "df_clean['Salary'].value_counts().head(20)"
   ]
  },
  {
   "cell_type": "code",
   "execution_count": 47,
   "metadata": {},
   "outputs": [
    {
     "data": {
      "text/plain": [
       "Age_category\n",
       "20  - 35    41\n",
       "25  - 45    25\n",
       "25  - 30    13\n",
       "Name: count, dtype: int64"
      ]
     },
     "execution_count": 47,
     "metadata": {},
     "output_type": "execute_result"
    }
   ],
   "source": [
    "df_clean['Age_category'].value_counts()"
   ]
  },
  {
   "cell_type": "code",
   "execution_count": 46,
   "metadata": {},
   "outputs": [],
   "source": [
    "replacement_dict = {\n",
    "    \"20  - 30\":\"20  - 35\",\n",
    "    \"20  - 28\":\"20  - 35\",\n",
    "    \"21  - 30\":\"20  - 35\",\n",
    "    \"22 - 35\": \"20  - 35\",\n",
    "    \"22  - 28\":\"20  - 35\",\n",
    "    \"22  - 30\":\"20  - 35\",\n",
    "    \"22  - 35\":\"20  - 35\",\n",
    "    \"22  - 26\":\"20  - 35\",\n",
    "    \"23  - 30\":\"20  - 35\",\n",
    "    \"23  - 28\":\"20  - 35\",\n",
    "    \"23  - 35\":\"20  - 35\",\n",
    "    \"24  - 35\":\"20  - 35\",\n",
    "    \"25 - 30\": \"20  - 35\",\n",
    "    \"25  - 35\":\"20  - 35\",\n",
    "    \"24\" : \"20  - 35\",\n",
    "\n",
    "    \"22  - 40\":\"25  - 45\",\n",
    "    \"23  - 45\":\"25  - 45\",\n",
    "    \"24  - 30\":\"25  - 30\",\n",
    "    \"24  - 40\":\"25  - 45\",\n",
    "    \"25  - 40\":\"25  - 45\",\n",
    "}\n",
    "\n",
    "df_clean['Age_category'].replace(replacement_dict,inplace=True)"
   ]
  },
  {
   "cell_type": "code",
   "execution_count": 17,
   "metadata": {},
   "outputs": [],
   "source": [
    "df_clean['Education_degree']  = df_clean['Education_degree'].replace(\"Ali (Magistr)\",\"Ali\")"
   ]
  },
  {
   "cell_type": "code",
   "execution_count": 18,
   "metadata": {},
   "outputs": [
    {
     "data": {
      "text/plain": [
       "Location\n",
       "Bakı                          1158\n",
       "Abşeronrayonu/Xırdalan           5\n",
       "Sumqayıt                         4\n",
       "Göygöl                           1\n",
       "QubaXaçmaz                       1\n",
       "BakıAbşeronrayonu/Xırdalan       1\n",
       "Gəncə                            1\n",
       "Balakən                          1\n",
       "HacıqabulŞirvan                  1\n",
       "Name: count, dtype: int64"
      ]
     },
     "execution_count": 18,
     "metadata": {},
     "output_type": "execute_result"
    }
   ],
   "source": [
    "df_clean['Location'] = df_clean['Location'].str.replace('\\n', '', regex=False).replace('\\t', '', regex=False).replace(r'\\s+', '', regex=True)\n",
    "df_clean['Location'].value_counts()"
   ]
  },
  {
   "cell_type": "markdown",
   "metadata": {},
   "source": [
    "# Visualization"
   ]
  },
  {
   "cell_type": "code",
   "execution_count": 19,
   "metadata": {},
   "outputs": [],
   "source": [
    "my_palatte = [\"#FFA38F\",\"#E9FF97\",\"#FFD18E\",\"#FF7EE2\",\"#9CDBA6\",\"#50B498\",\"#468585\",\"#5A639C\",\"#E2BBE9\"]"
   ]
  },
  {
   "cell_type": "code",
   "execution_count": 20,
   "metadata": {},
   "outputs": [],
   "source": [
    "def addlabels(x,y):\n",
    "    for i in range(len(x)):\n",
    "        plt.text(i, y[i], y[i], ha = 'center')"
   ]
  },
  {
   "cell_type": "code",
   "execution_count": 48,
   "metadata": {},
   "outputs": [
    {
     "data": {
      "image/png": "[encoded data removed]",
      "text/plain": [
       "<Figure size 640x480 with 1 Axes>"
      ]
     },
     "metadata": {},
     "output_type": "display_data"
    }
   ],
   "source": [
    "education = df_clean['Education_degree'].value_counts()\n",
    "\n",
    "plt.pie(x=education.values, labels=education.index, autopct='%1.1f%%',colors=my_palatte)\n",
    "plt.title('Distribution of Education Degrees')\n",
    "plt.show()"
   ]
  },
  {
   "cell_type": "code",
   "execution_count": 22,
   "metadata": {},
   "outputs": [
    {
     "data": {
      "image/png": "[encoded data removed]",
      "text/plain": [
       "<Figure size 1800x800 with 1 Axes>"
      ]
     },
     "metadata": {},
     "output_type": "display_data"
    }
   ],
   "source": [
    "location = df_clean['Location']\n",
    "\n",
    "plt.figure(figsize=(18,8))\n",
    "addlabels(location.value_counts().index,location.value_counts().values)\n",
    "sns.countplot(x=location, hue=location,palette=\"pastel\")\n",
    "plt.show()"
   ]
  },
  {
   "cell_type": "code",
   "execution_count": 23,
   "metadata": {},
   "outputs": [
    {
     "name": "stderr",
     "output_type": "stream",
     "text": [
      "C:\\Users\\Lenovo\\AppData\\Local\\Temp\\ipykernel_17104\\3306706950.py:3: UserWarning: The palette list has more values (9) than needed (3), which may not be intended.\n",
      "  sns.countplot(x=type_emp, hue=type_emp,palette=my_palatte)\n"
     ]
    },
    {
     "data": {
      "image/png": "[encoded data removed]",
      "text/plain": [
       "<Figure size 640x480 with 1 Axes>"
      ]
     },
     "metadata": {},
     "output_type": "display_data"
    }
   ],
   "source": [
    "type_emp = df_clean['Type_of_Employment']\n",
    "addlabels(type_emp.value_counts().index, type_emp.value_counts().values)\n",
    "sns.countplot(x=type_emp, hue=type_emp,palette=my_palatte)\n",
    "plt.show()"
   ]
  },
  {
   "cell_type": "code",
   "execution_count": 76,
   "metadata": {},
   "outputs": [
    {
     "name": "stderr",
     "output_type": "stream",
     "text": [
      "C:\\Users\\Lenovo\\AppData\\Local\\Temp\\ipykernel_17104\\1382919106.py:4: FutureWarning: \n",
      "\n",
      "Passing `palette` without assigning `hue` is deprecated and will be removed in v0.14.0. Assign the `x` variable to `hue` and set `legend=False` for the same effect.\n",
      "\n",
      "  sns.countplot(x= df_clean['Salary'], order=top_10_salaries.index, palette=my_palatte)\n",
      "C:\\Users\\Lenovo\\AppData\\Local\\Temp\\ipykernel_17104\\1382919106.py:4: UserWarning: \n",
      "The palette list has fewer values (9) than needed (10) and will cycle, which may produce an uninterpretable plot.\n",
      "  sns.countplot(x= df_clean['Salary'], order=top_10_salaries.index, palette=my_palatte)\n"
     ]
    },
    {
     "data": {
      "image/png": "[encoded data removed]",
      "text/plain": [
       "<Figure size 1800x800 with 1 Axes>"
      ]
     },
     "metadata": {},
     "output_type": "display_data"
    }
   ],
   "source": [
    "plt.figure(figsize=(18,8))\n",
    "\n",
    "top_10_salaries =  df_clean['Salary'].value_counts().head(10)\n",
    "sns.countplot(x= df_clean['Salary'], order=top_10_salaries.index, palette=my_palatte)\n",
    "addlabels(top_10_salaries.index, top_10_salaries.values)\n",
    "\n",
    "plt.title('Top 10 Most Frequent Salary Ranges')\n",
    "plt.show()"
   ]
  },
  {
   "cell_type": "code",
   "execution_count": 49,
   "metadata": {},
   "outputs": [
    {
     "data": {
      "image/png": "[encoded data removed]",
      "text/plain": [
       "<Figure size 640x480 with 1 Axes>"
      ]
     },
     "metadata": {},
     "output_type": "display_data"
    }
   ],
   "source": [
    "top_6_age_category = df_clean['Age_category'].value_counts().head(6)\n",
    "\n",
    "plt.pie(x=top_6_age_category.values, labels=top_6_age_category.index, autopct='%1.1f%%',colors=my_palatte)\n",
    "plt.title('Distribution of Age range')\n",
    "plt.show()"
   ]
  },
  {
   "cell_type": "code",
   "execution_count": 26,
   "metadata": {},
   "outputs": [],
   "source": [
    "df_clean2 = df_clean.copy()"
   ]
  },
  {
   "cell_type": "code",
   "execution_count": 27,
   "metadata": {},
   "outputs": [],
   "source": [
    "def fill_na_with_mode(col_name):\n",
    "    mode = df_clean[col_name].mode()[0]\n",
    "    df_clean2[col_name].fillna(mode,inplace=True)"
   ]
  },
  {
   "cell_type": "code",
   "execution_count": 28,
   "metadata": {},
   "outputs": [
    {
     "name": "stderr",
     "output_type": "stream",
     "text": [
      "C:\\Users\\Lenovo\\AppData\\Local\\Temp\\ipykernel_17104\\470627057.py:3: FutureWarning: A value is trying to be set on a copy of a DataFrame or Series through chained assignment using an inplace method.\n",
      "The behavior will change in pandas 3.0. This inplace method will never work because the intermediate object on which we are setting values always behaves as a copy.\n",
      "\n",
      "For example, when doing 'df[col].method(value, inplace=True)', try using 'df.method({col: value}, inplace=True)' or df[col] = df[col].method(value) instead, to perform the operation inplace on the original object.\n",
      "\n",
      "\n",
      "  df_clean2[col_name].fillna(mode,inplace=True)\n"
     ]
    },
    {
     "data": {
      "text/plain": [
       "Name                  0\n",
       "Url_to_Vacancy        0\n",
       "Company               0\n",
       "Location              0\n",
       "Type_of_Employment    0\n",
       "Age_category          0\n",
       "Education_degree      0\n",
       "Salary                0\n",
       "Posting_Date          8\n",
       "Deadline_Date         8\n",
       "Skills                0\n",
       "dtype: int64"
      ]
     },
     "execution_count": 28,
     "metadata": {},
     "output_type": "execute_result"
    }
   ],
   "source": [
    "fill_na_with_mode(\"Location\")\n",
    "fill_na_with_mode(\"Education_degree\")\n",
    "fill_na_with_mode(\"Age_category\")\n",
    "\n",
    "df_clean2.isna().sum()"
   ]
  },
  {
   "cell_type": "code",
   "execution_count": null,
   "metadata": {},
   "outputs": [],
   "source": []
  }
 ],
 "metadata": {
  "kernelspec": {
   "display_name": ".venv",
   "language": "python",
   "name": "python3"
  },
  "language_info": {
   "codemirror_mode": {
    "name": "ipython",
    "version": 3
   },
   "file_extension": ".py",
   "mimetype": "text/x-python",
   "name": "python",
   "nbconvert_exporter": "python",
   "pygments_lexer": "ipython3",
   "version": "3.12.2"
  }
 },
 "nbformat": 4,
 "nbformat_minor": 2
}
